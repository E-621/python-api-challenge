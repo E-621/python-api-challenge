{
 "cells": [
  {
   "cell_type": "markdown",
   "metadata": {},
   "source": [
    "# WeatherPy\n",
    "----\n",
    "\n",
    "#### Note\n",
    "* Instructions have been included for each segment. You do not have to follow them exactly, but they are included to help you think through the steps."
   ]
  },
  {
   "cell_type": "code",
   "execution_count": 15,
   "metadata": {
    "scrolled": true
   },
   "outputs": [],
   "source": [
    "# Dependencies and Setup\n",
    "import matplotlib.pyplot as plt\n",
    "import pandas as pd\n",
    "import numpy as np\n",
    "import requests\n",
    "import time\n",
    "from scipy.stats import linregress\n",
    "from datetime import datetime\n",
    "import timestamp \n",
    "\n",
    "# Import API key\n",
    "from api_keys import weather_api_key\n",
    "\n",
    "# Incorporated citipy to determine city based on latitude and longitude\n",
    "from citipy import citipy\n",
    "\n",
    "# Output File (CSV)\n",
    "output_data_file = \"output_data/cities.csv\"\n",
    "\n",
    "# Range of latitudes and longitudes\n",
    "lat_range = (-90, 90)\n",
    "lng_range = (-180, 180)"
   ]
  },
  {
   "cell_type": "markdown",
   "metadata": {},
   "source": [
    "## Generate Cities List"
   ]
  },
  {
   "cell_type": "code",
   "execution_count": 16,
   "metadata": {},
   "outputs": [
    {
     "data": {
      "text/plain": [
       "631"
      ]
     },
     "execution_count": 16,
     "metadata": {},
     "output_type": "execute_result"
    }
   ],
   "source": [
    "# List for holding lat_lngs and cities\n",
    "lat_lngs = []\n",
    "cities = []\n",
    "\n",
    "# Create a set of random lat and lng combinations\n",
    "lats = np.random.uniform(lat_range[0], lat_range[1], size=1500)\n",
    "lngs = np.random.uniform(lng_range[0], lng_range[1], size=1500)\n",
    "lat_lngs = zip(lats, lngs)\n",
    "\n",
    "# Identify nearest city for each lat, lng combination\n",
    "for lat_lng in lat_lngs:\n",
    "    city = citipy.nearest_city(lat_lng[0], lat_lng[1]).city_name\n",
    "    \n",
    "    # If the city is unique, then add it to a our cities list\n",
    "    if city not in cities:\n",
    "        cities.append(city)\n",
    "\n",
    "# Print the city count to confirm sufficient count\n",
    "len(cities)"
   ]
  },
  {
   "cell_type": "markdown",
   "metadata": {},
   "source": [
    "### Perform API Calls\n",
    "* Perform a weather check on each city using a series of successive API calls.\n",
    "* Include a print log of each city as it'sbeing processed (with the city number and city name).\n"
   ]
  },
  {
   "cell_type": "code",
   "execution_count": 28,
   "metadata": {
    "scrolled": true
   },
   "outputs": [
    {
     "name": "stdout",
     "output_type": "stream",
     "text": [
      "Processing record 1|bluff\n",
      "Processing record 2|north bend\n",
      "Processing record 3|saskylakh\n",
      "Processing record 4|nanortalik\n",
      "Processing record 5|moratuwa\n",
      "Processing record 6|natal\n",
      "Processing record 7|cidreira\n",
      "Processing record 8|mahebourg\n",
      "Processing record 9|hasaki\n",
      "Processing record 10|mar del plata\n",
      "Processing record 11|lavumisa\n",
      "Processing record 12|ilulissat\n",
      "Processing record 13|provideniya\n",
      "City not found. skipping...\n",
      "Processing record 14|colwyn bay\n",
      "Processing record 15|rikitea\n",
      "Processing record 16|lavrentiya\n",
      "Processing record 17|ushuaia\n",
      "City not found. skipping...\n",
      "Processing record 18|busselton\n",
      "Processing record 19|cape town\n",
      "Processing record 20|koppa\n",
      "Processing record 21|kenai\n",
      "Processing record 22|jamestown\n",
      "Processing record 23|samarai\n",
      "Processing record 24|astana\n",
      "Processing record 25|khandbari\n",
      "City not found. skipping...\n",
      "Processing record 26|mataura\n",
      "Processing record 27|itarema\n",
      "Processing record 28|yellowknife\n",
      "Processing record 29|bandipur\n",
      "Processing record 30|batagay-alyta\n",
      "Processing record 31|cotonou\n",
      "Processing record 32|taman\n",
      "Processing record 33|whitehorse\n",
      "Processing record 34|te anau\n",
      "Processing record 35|kawalu\n",
      "Processing record 36|kaitangata\n",
      "Processing record 37|salym\n",
      "Processing record 38|nioro\n",
      "Processing record 39|albany\n",
      "Processing record 40|airai\n",
      "City not found. skipping...\n",
      "Processing record 41|ryomgard\n",
      "Processing record 42|kapaa\n",
      "Processing record 43|manchester\n",
      "Processing record 44|punta arenas\n",
      "Processing record 45|riberalta\n",
      "Processing record 46|comodoro rivadavia\n",
      "Processing record 47|castro\n",
      "Processing record 48|vicuna\n",
      "City not found. skipping...\n",
      "Processing record 49|mitsamiouli\n",
      "Processing record 50|tasiilaq\n",
      "Processing record 51|dolores\n",
      "Processing record 52|porto walter\n",
      "Processing record 53|kasiri\n",
      "City not found. skipping...\n",
      "Processing record 54|komsomolskiy\n",
      "Processing record 55|prince george\n",
      "Processing record 56|saint-francois\n",
      "Processing record 57|flagstaff\n",
      "Processing record 58|acajutla\n",
      "Processing record 59|sola\n",
      "Processing record 60|lazarev\n",
      "Processing record 61|vila velha\n",
      "Processing record 62|richards bay\n",
      "Processing record 63|guarapari\n",
      "Processing record 64|bosaso\n",
      "Processing record 65|qaanaaq\n",
      "Processing record 66|dunedin\n",
      "Processing record 67|aswan\n",
      "Processing record 68|nome\n",
      "Processing record 69|amga\n",
      "Processing record 70|loyga\n",
      "Processing record 71|hofn\n",
      "Processing record 72|avarua\n",
      "Processing record 73|talnakh\n",
      "Processing record 74|lgov\n",
      "Processing record 75|atuona\n",
      "Processing record 76|mareeba\n",
      "Processing record 77|vestmannaeyjar\n",
      "Processing record 78|pundaguitan\n",
      "Processing record 79|east london\n",
      "City not found. skipping...\n",
      "Processing record 80|palmer\n",
      "Processing record 81|cherskiy\n",
      "Processing record 82|arraial do cabo\n",
      "Processing record 83|port alfred\n",
      "Processing record 84|biak\n",
      "Processing record 85|saint-philippe\n",
      "Processing record 86|kongolo\n",
      "Processing record 87|bambous virieux\n",
      "City not found. skipping...\n",
      "Processing record 88|north battleford\n",
      "Processing record 89|benguela\n",
      "Processing record 90|coquimbo\n",
      "Processing record 91|sassandra\n",
      "Processing record 92|turukhansk\n",
      "Processing record 93|lompoc\n",
      "Processing record 94|nara\n",
      "Processing record 95|candido mendes\n",
      "Processing record 96|mount gambier\n",
      "Processing record 97|san jose\n",
      "Processing record 98|butterworth\n",
      "Processing record 99|narsaq\n",
      "Processing record 100|tuktoyaktuk\n",
      "City not found. skipping...\n",
      "City not found. skipping...\n",
      "City not found. skipping...\n",
      "Processing record 101|bilibino\n",
      "Processing record 102|poum\n",
      "Processing record 103|shimoda\n",
      "Processing record 104|arivonimamo\n",
      "Processing record 105|warri\n",
      "Processing record 106|kendari\n",
      "Processing record 107|przeworsk\n",
      "Processing record 108|les cayes\n",
      "Processing record 109|ishigaki\n",
      "Processing record 110|bredasdorp\n",
      "Processing record 111|opuwo\n",
      "Processing record 112|campo maior\n",
      "Processing record 113|severo-kurilsk\n",
      "Processing record 114|araouane\n",
      "Processing record 115|port elizabeth\n",
      "Processing record 116|barrow\n",
      "Processing record 117|huarmey\n",
      "Processing record 118|seoul\n",
      "Processing record 119|tuatapere\n",
      "Processing record 120|nouakchott\n",
      "Processing record 121|prince rupert\n",
      "Processing record 122|mezhdurechenskiy\n",
      "Processing record 123|kyren\n",
      "Processing record 124|raga\n",
      "Processing record 125|abnub\n",
      "Processing record 126|hobart\n",
      "Processing record 127|hithadhoo\n",
      "Processing record 128|linhares\n",
      "Processing record 129|booue\n",
      "Processing record 130|fairbanks\n",
      "Processing record 131|villa corona\n",
      "Processing record 132|aripuana\n",
      "City not found. skipping...\n",
      "Processing record 133|vaini\n",
      "Processing record 134|hermanus\n",
      "Processing record 135|tatarsk\n",
      "Processing record 136|torbay\n",
      "Processing record 137|codrington\n",
      "Processing record 138|butaritari\n",
      "Processing record 139|flinders\n",
      "Processing record 140|nicoya\n",
      "Processing record 141|ribeira grande\n",
      "Processing record 142|nanga eboko\n",
      "Processing record 143|mecca\n",
      "Processing record 144|puerto ayora\n",
      "Processing record 145|kigali\n",
      "City not found. skipping...\n",
      "City not found. skipping...\n",
      "Processing record 146|garden city\n",
      "Processing record 147|dwarka\n",
      "Processing record 148|olenegorsk\n",
      "Processing record 149|dikson\n",
      "Processing record 150|matara\n",
      "Processing record 151|carroll\n",
      "Processing record 152|port hardy\n",
      "City not found. skipping...\n",
      "Processing record 153|valparaiso\n",
      "Processing record 154|mayna\n",
      "Processing record 155|marsa matruh\n",
      "Processing record 156|chokurdakh\n",
      "Processing record 157|vung tau\n",
      "Processing record 158|alofi\n",
      "Processing record 159|nago\n",
      "Processing record 160|rosa zarate\n",
      "Processing record 161|dumas\n",
      "Processing record 162|dembi dolo\n",
      "City not found. skipping...\n",
      "Processing record 163|asau\n",
      "City not found. skipping...\n",
      "City not found. skipping...\n",
      "Processing record 164|la ronge\n",
      "Processing record 165|salinopolis\n",
      "Processing record 166|beasain\n",
      "Processing record 167|seredka\n",
      "Processing record 168|halifax\n",
      "City not found. skipping...\n",
      "Processing record 169|nikolskoye\n",
      "Processing record 170|port hawkesbury\n",
      "Processing record 171|biu\n",
      "Processing record 172|hilo\n",
      "Processing record 173|husavik\n",
      "Processing record 174|ostrovnoy\n",
      "Processing record 175|santa cruz\n",
      "Processing record 176|manaquiri\n",
      "Processing record 177|bac lieu\n",
      "Processing record 178|megion\n",
      "City not found. skipping...\n",
      "City not found. skipping...\n",
      "Processing record 179|dalby\n",
      "Processing record 180|kodiak\n",
      "Processing record 181|longyearbyen\n",
      "Processing record 182|lyuban\n",
      "Processing record 183|thompson\n",
      "Processing record 184|belmonte\n",
      "Processing record 185|san patricio\n",
      "Processing record 186|messina\n",
      "Processing record 187|carnarvon\n",
      "Processing record 188|victoria\n",
      "Processing record 189|haines junction\n",
      "Processing record 190|ariquemes\n",
      "Processing record 191|mishan\n",
      "Processing record 192|guerrero negro\n",
      "Processing record 193|geraldton\n",
      "Processing record 194|baruun-urt\n",
      "Processing record 195|labuhan\n",
      "Processing record 196|randazzo\n",
      "Processing record 197|brae\n",
      "Processing record 198|baykit\n",
      "Processing record 199|ahipara\n",
      "Processing record 200|bull savanna\n",
      "Processing record 201|maldonado\n",
      "Processing record 202|goderich\n",
      "Processing record 203|pangnirtung\n",
      "Processing record 204|chowchilla\n",
      "Processing record 205|saint-augustin\n",
      "Processing record 206|new norfolk\n",
      "Processing record 207|hambantota\n",
      "Processing record 208|luderitz\n",
      "Processing record 209|saint-georges\n",
      "Processing record 210|coihaique\n",
      "City not found. skipping...\n",
      "Processing record 211|esperance\n",
      "Processing record 212|ponta do sol\n",
      "Processing record 213|souillac\n",
      "Processing record 214|santiago\n",
      "Processing record 215|chuy\n",
      "Processing record 216|ust-karsk\n",
      "Processing record 217|kyshtovka\n",
      "Processing record 218|tessalit\n",
      "Processing record 219|trairi\n",
      "Processing record 220|turan\n",
      "Processing record 221|roma\n",
      "City not found. skipping...\n",
      "Processing record 222|la asuncion\n",
      "Processing record 223|orbetello\n",
      "City not found. skipping...\n",
      "Processing record 224|beringovskiy\n",
      "Processing record 225|faanui\n",
      "City not found. skipping...\n",
      "City not found. skipping...\n",
      "Processing record 226|lorengau\n",
      "Processing record 227|isangel\n",
      "Processing record 228|buchanan\n",
      "Processing record 229|georgetown\n",
      "Processing record 230|port shepstone\n",
      "Processing record 231|necochea\n",
      "Processing record 232|surab\n",
      "Processing record 233|pontes e lacerda\n",
      "Processing record 234|tiksi\n",
      "Processing record 235|chapleau\n",
      "Processing record 236|itacarambi\n",
      "Processing record 237|jatai\n",
      "Processing record 238|duyun\n",
      "Processing record 239|fort nelson\n",
      "Processing record 240|mkushi\n",
      "Processing record 241|arauco\n",
      "Processing record 242|hun\n",
      "Processing record 243|kasongo-lunda\n"
     ]
    },
    {
     "name": "stdout",
     "output_type": "stream",
     "text": [
      "Processing record 244|vao\n",
      "Processing record 245|lata\n",
      "Processing record 246|kiboga\n",
      "Processing record 247|odlabari\n",
      "Processing record 248|lakselv\n",
      "Processing record 249|road town\n",
      "City not found. skipping...\n",
      "Processing record 250|ulagan\n",
      "Processing record 251|yatou\n",
      "Processing record 252|malkapur\n",
      "City not found. skipping...\n",
      "Processing record 253|kavaratti\n",
      "Processing record 254|bathsheba\n",
      "Processing record 255|matamoros\n",
      "Processing record 256|maracaju\n",
      "Processing record 257|faya\n",
      "Processing record 258|san cristobal\n",
      "Processing record 259|mango\n",
      "Processing record 260|ancud\n",
      "Processing record 261|luancheng\n",
      "Processing record 262|baihar\n",
      "Processing record 263|annau\n",
      "Processing record 264|kurchatov\n",
      "Processing record 265|olinda\n",
      "Processing record 266|mahibadhoo\n",
      "Processing record 267|vila franca do campo\n",
      "Processing record 268|cabo san lucas\n",
      "Processing record 269|carstairs\n",
      "Processing record 270|palana\n",
      "Processing record 271|bronnoysund\n",
      "Processing record 272|bilma\n",
      "Processing record 273|grindavik\n",
      "Processing record 274|carora\n",
      "Processing record 275|sidi ali\n",
      "Processing record 276|fare\n",
      "Processing record 277|christchurch\n",
      "Processing record 278|tres lagoas\n",
      "Processing record 279|yenagoa\n",
      "Processing record 280|kieta\n",
      "Processing record 281|clyde river\n",
      "Processing record 282|tando jam\n",
      "City not found. skipping...\n",
      "Processing record 283|netanya\n",
      "Processing record 284|sao filipe\n",
      "Processing record 285|knysna\n",
      "Processing record 286|lexington\n",
      "City not found. skipping...\n",
      "Processing record 287|saldanha\n",
      "Processing record 288|karratha\n",
      "City not found. skipping...\n",
      "Processing record 289|upernavik\n",
      "Processing record 290|dubbo\n",
      "Processing record 291|naze\n",
      "City not found. skipping...\n",
      "Processing record 292|korla\n",
      "Processing record 293|pandan\n",
      "Processing record 294|gerash\n",
      "Processing record 295|khatanga\n",
      "Processing record 296|tokur\n",
      "Processing record 297|igrim\n",
      "Processing record 298|hobyo\n",
      "Processing record 299|mehamn\n",
      "Processing record 300|anadyr\n",
      "City not found. skipping...\n",
      "Processing record 301|padang\n",
      "Processing record 302|tautira\n",
      "City not found. skipping...\n",
      "Processing record 303|hamilton\n",
      "Processing record 304|paka\n",
      "Processing record 305|sao miguel do araguaia\n",
      "Processing record 306|calabozo\n",
      "Processing record 307|kayerkan\n",
      "Processing record 308|cayenne\n",
      "Processing record 309|putina\n",
      "Processing record 310|pisco\n",
      "Processing record 311|gelnica\n",
      "Processing record 312|gardelegen\n",
      "Processing record 313|ilhabela\n",
      "Processing record 314|paamiut\n",
      "Processing record 315|mbandaka\n",
      "Processing record 316|atar\n",
      "Processing record 317|bethel\n",
      "Processing record 318|lazurne\n",
      "Processing record 319|nishihara\n",
      "Processing record 320|gedo\n",
      "Processing record 321|wilmington\n",
      "Processing record 322|sibolga\n",
      "Processing record 323|inhambane\n",
      "Processing record 324|joshimath\n",
      "Processing record 325|saint george\n",
      "Processing record 326|bakel\n",
      "Processing record 327|abha\n",
      "Processing record 328|khandyga\n",
      "Processing record 329|kruisfontein\n",
      "Processing record 330|puerto escondido\n",
      "Processing record 331|lebu\n",
      "Processing record 332|isla\n",
      "Processing record 333|berlevag\n",
      "Processing record 334|sao joao da barra\n",
      "Processing record 335|alyangula\n",
      "City not found. skipping...\n",
      "Processing record 336|bontang\n",
      "Processing record 337|skibbereen\n",
      "Processing record 338|sfantu gheorghe\n",
      "Processing record 339|klaksvik\n",
      "Processing record 340|cockburn town\n",
      "Processing record 341|gamba\n",
      "Processing record 342|ustka\n",
      "Processing record 343|kropotkin\n",
      "Processing record 344|riviere-au-renard\n",
      "City not found. skipping...\n",
      "Processing record 345|touros\n",
      "Processing record 346|salinas\n",
      "Processing record 347|severo-yeniseyskiy\n",
      "Processing record 348|orchard homes\n",
      "Processing record 349|atikokan\n",
      "Processing record 350|grand-santi\n",
      "Processing record 351|port moresby\n",
      "Processing record 352|andenes\n",
      "Processing record 353|fonte boa\n",
      "Processing record 354|dehloran\n",
      "Processing record 355|kantang\n",
      "Processing record 356|paita\n",
      "Processing record 357|egvekinot\n",
      "Processing record 358|teguldet\n",
      "City not found. skipping...\n",
      "Processing record 359|kahului\n",
      "City not found. skipping...\n",
      "Processing record 360|mattawa\n",
      "Processing record 361|besikduzu\n",
      "Processing record 362|kiama\n",
      "City not found. skipping...\n",
      "Processing record 363|sava\n",
      "Processing record 364|presidencia roque saenz pena\n",
      "Processing record 365|mandalgovi\n",
      "Processing record 366|kazanskoye\n",
      "Processing record 367|the valley\n",
      "Processing record 368|dicabisagan\n",
      "Processing record 369|oeiras do para\n",
      "Processing record 370|griffith\n",
      "Processing record 371|ghanzi\n",
      "Processing record 372|horsham\n",
      "Processing record 373|batemans bay\n",
      "Processing record 374|maloy\n",
      "Processing record 375|namatanai\n",
      "Processing record 376|karpathos\n",
      "Processing record 377|yumen\n",
      "Processing record 378|daru\n",
      "Processing record 379|okhotsk\n",
      "Processing record 380|jiwani\n",
      "Processing record 381|pokhara\n",
      "Processing record 382|rurrenabaque\n",
      "Processing record 383|killybegs\n",
      "Processing record 384|sargatskoye\n",
      "City not found. skipping...\n",
      "Processing record 385|inyonga\n",
      "Processing record 386|fort-shevchenko\n",
      "Processing record 387|eyl\n",
      "Processing record 388|awjilah\n",
      "Processing record 389|saint anthony\n",
      "Processing record 390|scarborough\n",
      "Processing record 391|villa san giovanni\n",
      "Processing record 392|tura\n",
      "Processing record 393|bichura\n",
      "Processing record 394|kavieng\n",
      "Processing record 395|bengkulu\n",
      "Processing record 396|lincoln\n",
      "Processing record 397|bolanos de calatrava\n",
      "Processing record 398|sechura\n",
      "Processing record 399|morehead\n",
      "Processing record 400|westport\n",
      "Processing record 401|muisne\n",
      "Processing record 402|santa isabel do rio negro\n",
      "Processing record 403|namibe\n",
      "Processing record 404|praia\n",
      "Processing record 405|alghero\n",
      "Processing record 406|mount pleasant\n",
      "Processing record 407|sorland\n",
      "Processing record 408|ixtapa\n",
      "Processing record 409|augusto correa\n",
      "Processing record 410|san javier\n",
      "Processing record 411|sakakah\n",
      "Processing record 412|hami\n",
      "Processing record 413|tiznit\n",
      "Processing record 414|tazovskiy\n",
      "Processing record 415|le vauclin\n",
      "Processing record 416|zhigansk\n",
      "Processing record 417|iqaluit\n",
      "Processing record 418|pringsewu\n",
      "Processing record 419|siloam springs\n",
      "Processing record 420|fortuna\n",
      "Processing record 421|mpika\n",
      "Processing record 422|nhulunbuy\n",
      "Processing record 423|majene\n",
      "Processing record 424|vardo\n",
      "Processing record 425|katsuura\n",
      "Processing record 426|juneau\n",
      "Processing record 427|leningradskiy\n",
      "Processing record 428|ayan\n",
      "Processing record 429|batagay\n",
      "Processing record 430|caravelas\n",
      "Processing record 431|guayaramerin\n",
      "Processing record 432|dzaoudzi\n",
      "Processing record 433|laguna\n",
      "City not found. skipping...\n",
      "Processing record 434|otavalo\n",
      "City not found. skipping...\n",
      "Processing record 435|bykov\n",
      "Processing record 436|barcelos\n",
      "Processing record 437|port hedland\n",
      "Processing record 438|dasoguz\n",
      "Processing record 439|pacific grove\n",
      "Processing record 440|kwidzyn\n",
      "Processing record 441|west wendover\n",
      "City not found. skipping...\n",
      "Processing record 442|heihe\n",
      "Processing record 443|los llanos de aridane\n",
      "Processing record 444|fort stewart\n",
      "Processing record 445|viedma\n",
      "City not found. skipping...\n",
      "Processing record 446|srednekolymsk\n",
      "Processing record 447|waipawa\n",
      "Processing record 448|kirakira\n",
      "Processing record 449|rio grande\n",
      "Processing record 450|kawardha\n",
      "Processing record 451|melo\n",
      "Processing record 452|bud\n",
      "Processing record 453|yarensk\n",
      "Processing record 454|kaoma\n",
      "Processing record 455|taltal\n",
      "Processing record 456|vila\n",
      "Processing record 457|algiers\n",
      "Processing record 458|koubia\n",
      "Processing record 459|qasigiannguit\n",
      "Processing record 460|berdigestyakh\n",
      "City not found. skipping...\n",
      "Processing record 461|coxim\n",
      "Processing record 462|coban\n",
      "Processing record 463|meulaboh\n",
      "Processing record 464|nautla\n",
      "Processing record 465|kabanga\n",
      "Processing record 466|edd\n",
      "Processing record 467|peniche\n",
      "City not found. skipping...\n",
      "Processing record 468|snasa\n",
      "Processing record 469|enterprise\n",
      "Processing record 470|bandarbeyla\n",
      "Processing record 471|aromashevo\n",
      "Processing record 472|tutoia\n",
      "Processing record 473|camacha\n",
      "Processing record 474|chipinge\n",
      "Processing record 475|baindur\n",
      "Processing record 476|nyaunglebin\n",
      "Processing record 477|vostok\n",
      "Processing record 478|vytegra\n",
      "Processing record 479|peto\n",
      "Processing record 480|qaqortoq\n",
      "Processing record 481|bowen\n",
      "Processing record 482|petropavlovsk-kamchatskiy\n",
      "Processing record 483|pemberton\n",
      "Processing record 484|najran\n",
      "City not found. skipping...\n",
      "Processing record 485|soroti\n",
      "Processing record 486|yining\n",
      "Processing record 487|tomatlan\n"
     ]
    },
    {
     "name": "stdout",
     "output_type": "stream",
     "text": [
      "Processing record 488|makakilo city\n",
      "Processing record 489|sistranda\n",
      "Processing record 490|naryan-mar\n",
      "Processing record 491|chimbote\n",
      "Processing record 492|olyka\n",
      "Processing record 493|green river\n",
      "Processing record 494|avera\n",
      "Processing record 495|simpang\n",
      "Processing record 496|stornoway\n",
      "Processing record 497|cabra\n",
      "Processing record 498|anloga\n",
      "Processing record 499|puerto colombia\n",
      "Processing record 500|pangody\n",
      "Processing record 501|sisimiut\n",
      "Processing record 502|wembley\n",
      "Processing record 503|tashtagol\n",
      "Processing record 504|totness\n",
      "City not found. skipping...\n",
      "Processing record 505|talakan\n",
      "Processing record 506|mezen\n",
      "Processing record 507|batsfjord\n",
      "Processing record 508|rocha\n",
      "City not found. skipping...\n",
      "City not found. skipping...\n",
      "Processing record 509|dingle\n",
      "Processing record 510|yarada\n",
      "Processing record 511|celestun\n",
      "Processing record 512|sarankhola\n",
      "Processing record 513|rulenge\n",
      "Processing record 514|kargil\n",
      "Processing record 515|lima\n",
      "Processing record 516|havoysund\n",
      "Processing record 517|bourail\n",
      "Processing record 518|bara\n",
      "Processing record 519|abidjan\n",
      "Processing record 520|ucluelet\n",
      "Processing record 521|tokmak\n",
      "City not found. skipping...\n",
      "Processing record 522|isugod\n",
      "Processing record 523|saint-joseph\n",
      "Processing record 524|lhokseumawe\n",
      "Processing record 525|broome\n",
      "Processing record 526|taoudenni\n",
      "Processing record 527|sao geraldo do araguaia\n",
      "Processing record 528|athabasca\n",
      "Processing record 529|broken hill\n",
      "Processing record 530|salalah\n",
      "Processing record 531|pevek\n",
      "Processing record 532|santa marta de tormes\n",
      "Processing record 533|bonavista\n",
      "Processing record 534|olafsvik\n",
      "Processing record 535|metu\n",
      "Processing record 536|xining\n",
      "Processing record 537|itoman\n",
      "Processing record 538|ust-nera\n",
      "Processing record 539|ginda\n",
      "Processing record 540|sao jose de ribamar\n",
      "Processing record 541|port blair\n",
      "Processing record 542|abalak\n",
      "Processing record 543|nouadhibou\n",
      "Processing record 544|aykino\n",
      "Processing record 545|morondava\n",
      "Processing record 546|houma\n",
      "Processing record 547|buala\n",
      "Processing record 548|bantry\n",
      "Processing record 549|constitucion\n",
      "Processing record 550|yar-sale\n",
      "Processing record 551|gabu\n",
      "Processing record 552|villa carlos paz\n",
      "Processing record 553|college\n",
      "Processing record 554|partizanskoye\n",
      "Processing record 555|vanderhoof\n",
      "Processing record 556|vegreville\n",
      "Processing record 557|liberal\n",
      "Processing record 558|saint-pierre\n",
      "Processing record 559|bolitoc\n",
      "Processing record 560|gazli\n",
      "Processing record 561|batticaloa\n",
      "Processing record 562|cedar city\n",
      "Processing record 563|buraydah\n",
      "Processing record 564|armizonskoye\n",
      "City not found. skipping...\n",
      "Processing record 565|ust-omchug\n",
      "Processing record 566|tukums\n",
      "Processing record 567|ambatondrazaka\n",
      "Processing record 568|ornskoldsvik\n",
      "Processing record 569|sangar\n",
      "Processing record 570|artigas\n",
      "Processing record 571|gisborne\n",
      "Processing record 572|ambovombe\n",
      "Processing record 573|vallenar\n",
      "Processing record 574|hedaru\n",
      "Processing record 575|matagami\n",
      "Processing record 576|san policarpo\n",
      "Processing record 577|dahod\n",
      "Processing record 578|puerto el triunfo\n",
      "Processing record 579|bubaque\n"
     ]
    }
   ],
   "source": [
    "url = \"http://api.openweathermap.org/data/2.5/weather?units=Imperial&\"\n",
    "\n",
    "# Set Variables\n",
    "date = []\n",
    "country = []\n",
    "city_name = []\n",
    "cloudiness = []\n",
    "max_temp = []\n",
    "humidity = []\n",
    "wind_speed = []\n",
    "lat = []\n",
    "lng = []\n",
    "\n",
    "#Loop to make api calls w/ city as query\n",
    "i = 1\n",
    "for city in cities:\n",
    "    city=city\n",
    "    query_url = url + \"appid=\" + weather_api_key + \"&q=\" + city\n",
    "    response = requests.get(query_url).json()\n",
    "    \n",
    "# Try and except handling\n",
    "    try:\n",
    "        \n",
    "        date.append(response[\"dt\"])\n",
    "        country.append(response[\"sys\"][\"country\"])\n",
    "        city_name.append(response[\"name\"])\n",
    "        cloudiness.append(response[\"clouds\"][\"all\"])\n",
    "        max_temp.append(response[\"main\"]['temp_max'])\n",
    "        humidity.append(response[\"main\"]['humidity'])\n",
    "        wind_speed.append(response[\"wind\"][\"speed\"])\n",
    "        lat.append(response[\"coord\"][\"lat\"])  \n",
    "        lng.append(response[\"coord\"][\"lon\"])\n",
    "        \n",
    "        print(f\"Processing record {i}|{city}\")\n",
    "        i+=1\n",
    "    except (KeyError):\n",
    "        print(\"City not found. skipping...\")"
   ]
  },
  {
   "cell_type": "markdown",
   "metadata": {},
   "source": [
    "### Convert Raw Data to DataFrame\n",
    "* Export the city data into a .csv.\n",
    "* Display the DataFrame"
   ]
  },
  {
   "cell_type": "code",
   "execution_count": 31,
   "metadata": {},
   "outputs": [
    {
     "data": {
      "text/html": [
       "<div>\n",
       "<style scoped>\n",
       "    .dataframe tbody tr th:only-of-type {\n",
       "        vertical-align: middle;\n",
       "    }\n",
       "\n",
       "    .dataframe tbody tr th {\n",
       "        vertical-align: top;\n",
       "    }\n",
       "\n",
       "    .dataframe thead th {\n",
       "        text-align: right;\n",
       "    }\n",
       "</style>\n",
       "<table border=\"1\" class=\"dataframe\">\n",
       "  <thead>\n",
       "    <tr style=\"text-align: right;\">\n",
       "      <th></th>\n",
       "      <th>Date</th>\n",
       "      <th>Country</th>\n",
       "      <th>City</th>\n",
       "      <th>Cloudiness</th>\n",
       "      <th>Max Temp</th>\n",
       "      <th>Wind Speed</th>\n",
       "      <th>Humidity</th>\n",
       "      <th>Lat</th>\n",
       "      <th>Lng</th>\n",
       "    </tr>\n",
       "    <tr>\n",
       "      <th>City ID</th>\n",
       "      <th></th>\n",
       "      <th></th>\n",
       "      <th></th>\n",
       "      <th></th>\n",
       "      <th></th>\n",
       "      <th></th>\n",
       "      <th></th>\n",
       "      <th></th>\n",
       "      <th></th>\n",
       "    </tr>\n",
       "  </thead>\n",
       "  <tbody>\n",
       "    <tr>\n",
       "      <th>0</th>\n",
       "      <td>2021-04-16</td>\n",
       "      <td>NZ</td>\n",
       "      <td>Bluff</td>\n",
       "      <td>100</td>\n",
       "      <td>42.01</td>\n",
       "      <td>5.99</td>\n",
       "      <td>94</td>\n",
       "      <td>-46.6000</td>\n",
       "      <td>168.3333</td>\n",
       "    </tr>\n",
       "    <tr>\n",
       "      <th>1</th>\n",
       "      <td>2021-04-16</td>\n",
       "      <td>US</td>\n",
       "      <td>North Bend</td>\n",
       "      <td>75</td>\n",
       "      <td>71.01</td>\n",
       "      <td>6.91</td>\n",
       "      <td>87</td>\n",
       "      <td>43.4065</td>\n",
       "      <td>-124.2243</td>\n",
       "    </tr>\n",
       "    <tr>\n",
       "      <th>2</th>\n",
       "      <td>2021-04-16</td>\n",
       "      <td>RU</td>\n",
       "      <td>Saskylakh</td>\n",
       "      <td>100</td>\n",
       "      <td>11.19</td>\n",
       "      <td>15.28</td>\n",
       "      <td>94</td>\n",
       "      <td>71.9167</td>\n",
       "      <td>114.0833</td>\n",
       "    </tr>\n",
       "    <tr>\n",
       "      <th>3</th>\n",
       "      <td>2021-04-16</td>\n",
       "      <td>GL</td>\n",
       "      <td>Nanortalik</td>\n",
       "      <td>63</td>\n",
       "      <td>21.88</td>\n",
       "      <td>48.45</td>\n",
       "      <td>51</td>\n",
       "      <td>60.1432</td>\n",
       "      <td>-45.2371</td>\n",
       "    </tr>\n",
       "    <tr>\n",
       "      <th>4</th>\n",
       "      <td>2021-04-16</td>\n",
       "      <td>LK</td>\n",
       "      <td>Moratuwa</td>\n",
       "      <td>20</td>\n",
       "      <td>78.80</td>\n",
       "      <td>2.30</td>\n",
       "      <td>83</td>\n",
       "      <td>6.7730</td>\n",
       "      <td>79.8816</td>\n",
       "    </tr>\n",
       "  </tbody>\n",
       "</table>\n",
       "</div>"
      ],
      "text/plain": [
       "               Date Country        City  Cloudiness  Max Temp  Wind Speed  \\\n",
       "City ID                                                                     \n",
       "0        2021-04-16      NZ       Bluff         100     42.01        5.99   \n",
       "1        2021-04-16      US  North Bend          75     71.01        6.91   \n",
       "2        2021-04-16      RU   Saskylakh         100     11.19       15.28   \n",
       "3        2021-04-16      GL  Nanortalik          63     21.88       48.45   \n",
       "4        2021-04-16      LK    Moratuwa          20     78.80        2.30   \n",
       "\n",
       "         Humidity      Lat       Lng  \n",
       "City ID                               \n",
       "0              94 -46.6000  168.3333  \n",
       "1              87  43.4065 -124.2243  \n",
       "2              94  71.9167  114.0833  \n",
       "3              51  60.1432  -45.2371  \n",
       "4              83   6.7730   79.8816  "
      ]
     },
     "execution_count": 31,
     "metadata": {},
     "output_type": "execute_result"
    }
   ],
   "source": [
    "#Creat city dataframe\n",
    "city_df = pd.DataFrame({\"Date\":date, \n",
    "                        \"Country\":country, \n",
    "                        \"City\":city_name, \n",
    "                        \"Cloudiness\":cloudiness, \n",
    "                        \"Max Temp\":max_temp,\n",
    "                        \"Wind Speed\":wind_speed,\n",
    "                        \"Humidity\":humidity,\n",
    "                        \"Lat\":lat,\n",
    "                        \"Lng\":lng\n",
    "                                         })\n",
    "city_df = city_df.rename_axis('City ID')\n",
    "\n",
    "city_df[\"Date\"] = pd.to_datetime(city_df['Date'], unit ='s').dt.date\n",
    "\n",
    "#Export to csv\n",
    "city_df.to_csv(\"output_data/city_data.csv\")\n",
    "\n",
    "#Display dataframe\n",
    "city_df.head()"
   ]
  },
  {
   "cell_type": "markdown",
   "metadata": {},
   "source": [
    "## Inspect the data and remove the cities where the humidity > 100%.\n",
    "----\n",
    "Skip this step if there are no cities that have humidity > 100%. "
   ]
  },
  {
   "cell_type": "code",
   "execution_count": 32,
   "metadata": {},
   "outputs": [
    {
     "data": {
      "text/plain": [
       "100"
      ]
     },
     "execution_count": 32,
     "metadata": {},
     "output_type": "execute_result"
    }
   ],
   "source": [
    "humidity_check = city_df[\"Humidity\"].max()\n",
    "humidity_check"
   ]
  },
  {
   "cell_type": "code",
   "execution_count": 33,
   "metadata": {},
   "outputs": [],
   "source": [
    "#  Get the indices of cities that have humidity over 100%.\n"
   ]
  },
  {
   "cell_type": "code",
   "execution_count": 34,
   "metadata": {},
   "outputs": [],
   "source": [
    "# Make a new DataFrame equal to the city data to drop all humidity outliers by index.\n",
    "# Passing \"inplace=False\" will make a copy of the city_data DataFrame, which we call \"clean_city_data\".\n"
   ]
  },
  {
   "cell_type": "markdown",
   "metadata": {},
   "source": [
    "## Plotting the Data\n",
    "* Use proper labeling of the plots using plot titles (including date of analysis) and axes labels.\n",
    "* Save the plotted figures as .pngs."
   ]
  },
  {
   "cell_type": "markdown",
   "metadata": {},
   "source": [
    "## Latitude vs. Temperature Plot"
   ]
  },
  {
   "cell_type": "code",
   "execution_count": 35,
   "metadata": {
    "scrolled": true
   },
   "outputs": [
    {
     "data": {
      "text/plain": [
       "<function matplotlib.pyplot.show(*args, **kw)>"
      ]
     },
     "execution_count": 35,
     "metadata": {},
     "output_type": "execute_result"
    },
    {
     "data": {
      "image/png": "[encoded data removed]",
      "text/plain": [
       "<Figure size 432x288 with 1 Axes>"
      ]
     },
     "metadata": {
      "needs_background": "light"
     },
     "output_type": "display_data"
    }
   ],
   "source": [
    "# define date\n",
    "date_st = city_df['Date'][0]\n",
    "\n",
    "# Scatter plot of lat and Temp\n",
    "plt.scatter(city_df[\"Lat\"], city_df[\"Max Temp\"], facecolor = \"blue\", edgecolor = \"black\")\n",
    "plt.title(f'City Latitude vs Max Temperature: {date_st}')\n",
    "plt.ylabel('Max Temperature (F)')\n",
    "plt.xlabel('Latitude')\n",
    "plt.grid()\n",
    "plt.savefig('output_data/lat_temp_plot')\n",
    "plt.show"
   ]
  },
  {
   "cell_type": "markdown",
   "metadata": {},
   "source": [
    "## Latitude vs. Humidity Plot"
   ]
  },
  {
   "cell_type": "code",
   "execution_count": 36,
   "metadata": {},
   "outputs": [
    {
     "data": {
      "text/plain": [
       "<function matplotlib.pyplot.show(*args, **kw)>"
      ]
     },
     "execution_count": 36,
     "metadata": {},
     "output_type": "execute_result"
    },
    {
     "data": {
      "image/png": "[encoded data removed]",
      "text/plain": [
       "<Figure size 432x288 with 1 Axes>"
      ]
     },
     "metadata": {
      "needs_background": "light"
     },
     "output_type": "display_data"
    }
   ],
   "source": [
    "# Scatter plot of lat and humididty\n",
    "plt.scatter(city_df[\"Lat\"], city_df[\"Humidity\"], facecolor = \"blue\", edgecolor = \"black\")\n",
    "plt.title(f'City Latitude vs Max Humidity: {date_st}')\n",
    "plt.ylabel(\"Humidity(%)\")\n",
    "plt.xlabel('Latitude')\n",
    "plt.grid()\n",
    "plt.savefig('output_data/lat_humidity_plot')\n",
    "plt.show"
   ]
  },
  {
   "cell_type": "markdown",
   "metadata": {},
   "source": [
    "## Latitude vs. Cloudiness Plot"
   ]
  },
  {
   "cell_type": "code",
   "execution_count": 37,
   "metadata": {},
   "outputs": [
    {
     "data": {
      "text/plain": [
       "<function matplotlib.pyplot.show(*args, **kw)>"
      ]
     },
     "execution_count": 37,
     "metadata": {},
     "output_type": "execute_result"
    },
    {
     "data": {
      "image/png": "[encoded data removed]",
      "text/plain": [
       "<Figure size 432x288 with 1 Axes>"
      ]
     },
     "metadata": {
      "needs_background": "light"
     },
     "output_type": "display_data"
    }
   ],
   "source": [
    "# Scatter plot of lat and cloudiness\n",
    "\n",
    "plt.scatter(city_df[\"Lat\"], city_df[\"Cloudiness\"], facecolor = \"blue\", edgecolor = \"black\")\n",
    "plt.title(f'City Latitude vs Cloudiness: {date_st}')\n",
    "plt.ylabel('Cloudiness')\n",
    "plt.xlabel('Latitude')\n",
    "plt.grid()\n",
    "plt.savefig('output_data/lat_cloudy_plot')\n",
    "plt.show"
   ]
  },
  {
   "cell_type": "markdown",
   "metadata": {},
   "source": [
    "## Latitude vs. Wind Speed Plot"
   ]
  },
  {
   "cell_type": "code",
   "execution_count": 38,
   "metadata": {},
   "outputs": [
    {
     "data": {
      "text/plain": [
       "<function matplotlib.pyplot.show(*args, **kw)>"
      ]
     },
     "execution_count": 38,
     "metadata": {},
     "output_type": "execute_result"
    },
    {
     "data": {
      "image/png": "[encoded data removed]",
      "text/plain": [
       "<Figure size 432x288 with 1 Axes>"
      ]
     },
     "metadata": {
      "needs_background": "light"
     },
     "output_type": "display_data"
    }
   ],
   "source": [
    "# Scatter plot of Lat and Wind Speed\n",
    "\n",
    "plt.scatter(city_df[\"Lat\"], city_df[\"Wind Speed\"], facecolor = \"blue\", edgecolor = \"black\")\n",
    "plt.title(f'City Latitude vs Wind Speed: {date_st}')\n",
    "plt.ylabel('Wind Speed (mph)')\n",
    "plt.xlabel('Latitude')\n",
    "plt.grid()\n",
    "plt.savefig('output_data/lat_wind_plot')\n",
    "plt.show"
   ]
  },
  {
   "cell_type": "code",
   "execution_count": 39,
   "metadata": {},
   "outputs": [],
   "source": [
    "Northern_hemisphere = city_df.loc[city_df[\"Lat\"]>0]\n",
    "Southern_hemisphere = city_df.loc[city_df[\"Lat\"]<0]"
   ]
  },
  {
   "cell_type": "code",
   "execution_count": 40,
   "metadata": {},
   "outputs": [],
   "source": [
    "def linear_reg(x_values, y_values):\n",
    "    (slope, intercept, rvalue, pvalue, stderr) = linregress(x_values, y_values)\n",
    "    regress_values = x_values * slope + intercept\n",
    "    line_eq = \"y = \" + str(round(slope,2)) + \"x + \" + str(round(intercept,2))\n",
    "    plt.scatter(x_values,y_values)\n",
    "    plt.plot(x_values,regress_values,\"r-\")\n",
    "    plt.annotate(line_eq,(x_values.median(),y_values.median()),fontsize=15,color=\"red\")\n",
    "    plt.xlabel(\"Latitude\")\n",
    "    print(f\"The r-squared is: {rvalue}\")\n",
    "    plt.show()"
   ]
  },
  {
   "cell_type": "markdown",
   "metadata": {},
   "source": [
    "## Linear Regression"
   ]
  },
  {
   "cell_type": "markdown",
   "metadata": {},
   "source": [
    "####  Northern Hemisphere - Max Temp vs. Latitude Linear Regression"
   ]
  },
  {
   "cell_type": "code",
   "execution_count": 41,
   "metadata": {},
   "outputs": [
    {
     "name": "stdout",
     "output_type": "stream",
     "text": [
      "The r-squared is: -0.8691493502811183\n"
     ]
    },
    {
     "data": {
      "image/png": "[encoded data removed]",
      "text/plain": [
       "<Figure size 432x288 with 1 Axes>"
      ]
     },
     "metadata": {
      "needs_background": "light"
     },
     "output_type": "display_data"
    },
    {
     "name": "stdout",
     "output_type": "stream",
     "text": [
      "None\n"
     ]
    }
   ],
   "source": [
    "# Temp vs Lat (North)\n",
    "x_values = Northern_hemisphere[\"Lat\"]\n",
    "y_values = Northern_hemisphere[\"Max Temp\"]\n",
    "plt.ylabel(\"Max Temp (F)\")\n",
    "print(linear_reg(x_values,y_values))"
   ]
  },
  {
   "cell_type": "markdown",
   "metadata": {},
   "source": [
    "####  Southern Hemisphere - Max Temp vs. Latitude Linear Regression"
   ]
  },
  {
   "cell_type": "code",
   "execution_count": 42,
   "metadata": {},
   "outputs": [
    {
     "name": "stdout",
     "output_type": "stream",
     "text": [
      "The r-squared is: 0.6435168231386867\n"
     ]
    },
    {
     "data": {
      "image/png": "[encoded data removed]",
      "text/plain": [
       "<Figure size 432x288 with 1 Axes>"
      ]
     },
     "metadata": {
      "needs_background": "light"
     },
     "output_type": "display_data"
    },
    {
     "name": "stdout",
     "output_type": "stream",
     "text": [
      "None\n"
     ]
    }
   ],
   "source": [
    "# Temp vs Lat (South)\n",
    "x_values = Southern_hemisphere[\"Lat\"]\n",
    "y_values = Southern_hemisphere[\"Max Temp\"]\n",
    "plt.ylabel(\"Max Temp (F)\")\n",
    "print(linear_reg(x_values,y_values))"
   ]
  },
  {
   "cell_type": "markdown",
   "metadata": {},
   "source": [
    "####  Northern Hemisphere - Humidity (%) vs. Latitude Linear Regression"
   ]
  },
  {
   "cell_type": "code",
   "execution_count": 43,
   "metadata": {},
   "outputs": [
    {
     "name": "stdout",
     "output_type": "stream",
     "text": [
      "The r-squared is: 0.2445769235973699\n"
     ]
    },
    {
     "data": {
      "image/png": "[encoded data removed]",
      "text/plain": [
       "<Figure size 432x288 with 1 Axes>"
      ]
     },
     "metadata": {
      "needs_background": "light"
     },
     "output_type": "display_data"
    },
    {
     "name": "stdout",
     "output_type": "stream",
     "text": [
      "None\n"
     ]
    }
   ],
   "source": [
    "# Lat vs Humidity (North)\n",
    "x_values = Northern_hemisphere[\"Lat\"]\n",
    "y_values = Northern_hemisphere[\"Humidity\"]\n",
    "plt.ylabel(\"Humidity (%)\")\n",
    "print(linear_reg(x_values,y_values))"
   ]
  },
  {
   "cell_type": "markdown",
   "metadata": {},
   "source": [
    "####  Southern Hemisphere - Humidity (%) vs. Latitude Linear Regression"
   ]
  },
  {
   "cell_type": "code",
   "execution_count": 44,
   "metadata": {},
   "outputs": [
    {
     "name": "stdout",
     "output_type": "stream",
     "text": [
      "The r-squared is: 0.22411481236281644\n"
     ]
    },
    {
     "data": {
      "image/png": "[encoded data removed]",
      "text/plain": [
       "<Figure size 432x288 with 1 Axes>"
      ]
     },
     "metadata": {
      "needs_background": "light"
     },
     "output_type": "display_data"
    },
    {
     "name": "stdout",
     "output_type": "stream",
     "text": [
      "None\n"
     ]
    }
   ],
   "source": [
    "# Lat vs Humidity (South)\n",
    "x_values = Southern_hemisphere[\"Lat\"]\n",
    "y_values = Southern_hemisphere[\"Humidity\"]\n",
    "plt.ylim(0, y_values.max()+100)\n",
    "plt.ylabel(\"Humidity (%)\")\n",
    "print(linear_reg(x_values,y_values))"
   ]
  },
  {
   "cell_type": "markdown",
   "metadata": {},
   "source": [
    "####  Northern Hemisphere - Cloudiness (%) vs. Latitude Linear Regression"
   ]
  },
  {
   "cell_type": "code",
   "execution_count": 45,
   "metadata": {},
   "outputs": [
    {
     "name": "stdout",
     "output_type": "stream",
     "text": [
      "The r-squared is: 0.040273530399906665\n"
     ]
    },
    {
     "data": {
      "image/png": "[encoded data removed]",
      "text/plain": [
       "<Figure size 432x288 with 1 Axes>"
      ]
     },
     "metadata": {
      "needs_background": "light"
     },
     "output_type": "display_data"
    },
    {
     "name": "stdout",
     "output_type": "stream",
     "text": [
      "None\n"
     ]
    }
   ],
   "source": [
    "# Lat vs Cloudiness (North)\n",
    "x_values = Northern_hemisphere[\"Lat\"]\n",
    "y_values = Northern_hemisphere[\"Cloudiness\"]\n",
    "plt.ylabel(\"Cloudiness\")\n",
    "print(linear_reg(x_values,y_values))"
   ]
  },
  {
   "cell_type": "markdown",
   "metadata": {},
   "source": [
    "####  Southern Hemisphere - Cloudiness (%) vs. Latitude Linear Regression"
   ]
  },
  {
   "cell_type": "code",
   "execution_count": 46,
   "metadata": {},
   "outputs": [
    {
     "name": "stdout",
     "output_type": "stream",
     "text": [
      "The r-squared is: 0.14424968557133502\n"
     ]
    },
    {
     "data": {
      "image/png": "[encoded data removed]",
      "text/plain": [
       "<Figure size 432x288 with 1 Axes>"
      ]
     },
     "metadata": {
      "needs_background": "light"
     },
     "output_type": "display_data"
    },
    {
     "name": "stdout",
     "output_type": "stream",
     "text": [
      "None\n"
     ]
    }
   ],
   "source": [
    "# Lat vs Cloudiness (South)\n",
    "x_values = Southern_hemisphere[\"Lat\"]\n",
    "y_values = Southern_hemisphere[\"Cloudiness\"]\n",
    "plt.ylabel(\"Cloudiness\")\n",
    "print(linear_reg(x_values,y_values))"
   ]
  },
  {
   "cell_type": "markdown",
   "metadata": {},
   "source": [
    "####  Northern Hemisphere - Wind Speed (mph) vs. Latitude Linear Regression"
   ]
  },
  {
   "cell_type": "code",
   "execution_count": 47,
   "metadata": {},
   "outputs": [
    {
     "name": "stdout",
     "output_type": "stream",
     "text": [
      "The r-squared is: 0.17707186649404122\n"
     ]
    },
    {
     "data": {
      "image/png": "[encoded data removed]",
      "text/plain": [
       "<Figure size 432x288 with 1 Axes>"
      ]
     },
     "metadata": {
      "needs_background": "light"
     },
     "output_type": "display_data"
    },
    {
     "name": "stdout",
     "output_type": "stream",
     "text": [
      "None\n"
     ]
    }
   ],
   "source": [
    "# Lat vs wind speed (North)\n",
    "x_values = Northern_hemisphere[\"Lat\"]\n",
    "y_values = Northern_hemisphere[\"Wind Speed\"]\n",
    "plt.ylabel(\"Wind Speed (mph)\")\n",
    "print(linear_reg(x_values,y_values))"
   ]
  },
  {
   "cell_type": "markdown",
   "metadata": {},
   "source": [
    "####  Southern Hemisphere - Wind Speed (mph) vs. Latitude Linear Regression"
   ]
  },
  {
   "cell_type": "code",
   "execution_count": 48,
   "metadata": {},
   "outputs": [
    {
     "name": "stdout",
     "output_type": "stream",
     "text": [
      "The r-squared is: -0.24262760667781924\n"
     ]
    },
    {
     "data": {
      "image/png": "[encoded data removed]",
      "text/plain": [
       "<Figure size 432x288 with 1 Axes>"
      ]
     },
     "metadata": {
      "needs_background": "light"
     },
     "output_type": "display_data"
    },
    {
     "name": "stdout",
     "output_type": "stream",
     "text": [
      "None\n"
     ]
    }
   ],
   "source": [
    "# Lat vs wind speed (South)\n",
    "x_values = Southern_hemisphere[\"Lat\"]\n",
    "y_values = Southern_hemisphere[\"Wind Speed\"]\n",
    "plt.ylabel(\"Wind Speed (mph)\")\n",
    "print(linear_reg(x_values,y_values))"
   ]
  },
  {
   "cell_type": "code",
   "execution_count": null,
   "metadata": {},
   "outputs": [],
   "source": []
  }
 ],
 "metadata": {
  "anaconda-cloud": {},
  "kernel_info": {
   "name": "python3"
  },
  "kernelspec": {
   "display_name": "Python [conda env:PythonData] *",
   "language": "python",
   "name": "conda-env-PythonData-py"
  },
  "language_info": {
   "codemirror_mode": {
    "name": "ipython",
    "version": 3
   },
   "file_extension": ".py",
   "mimetype": "text/x-python",
   "name": "python",
   "nbconvert_exporter": "python",
   "pygments_lexer": "ipython3",
   "version": "3.6.10"
  },
  "latex_envs": {
   "LaTeX_envs_menu_present": true,
   "autoclose": false,
   "autocomplete": true,
   "bibliofile": "biblio.bib",
   "cite_by": "apalike",
   "current_citInitial": 1,
   "eqLabelWithNumbers": true,
   "eqNumInitial": 1,
   "hotkeys": {
    "equation": "Ctrl-E",
    "itemize": "Ctrl-I"
   },
   "labels_anchors": false,
   "latex_user_defs": false,
   "report_style_numbering": false,
   "user_envs_cfg": false
  },
  "nteract": {
   "version": "0.12.3"
  }
 },
 "nbformat": 4,
 "nbformat_minor": 2
}
